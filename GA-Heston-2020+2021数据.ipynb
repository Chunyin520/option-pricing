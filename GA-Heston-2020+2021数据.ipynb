{
 "cells": [
  {
   "cell_type": "code",
   "execution_count": null,
   "metadata": {},
   "outputs": [],
   "source": [
    "import numpy as np\n",
    "import pandas as pd\n",
    "#pd.set_option('display.max_rows', None)\n",
    "import time\n",
    "from datetime import datetime\n",
    "from scipy.stats import norm\n",
    "from scipy.integrate import quad\n",
    "from sko.PSO import PSO\n",
    "from sko.GA import GA\n",
    "from sklearn.metrics import mean_squared_error\n",
    "from sklearn.model_selection import train_test_split\n",
    "import xgboost as xgb\n",
    "\n",
    "import warnings\n",
    "warnings.filterwarnings(\"ignore\")"
   ]
  },
  {
   "cell_type": "markdown",
   "metadata": {},
   "source": [
    "#上证50\n",
    "df1=pd.read_csv('./上证50ETF.csv',index_col=0)\n",
    "#df1['returns']=df1['CLOSE'].pct_change()\n",
    "df1['returns']=np.log(df1['CLOSE']).diff()\n",
    "df1['history_volatility']=df1['returns'].rolling(5).std()*np.sqrt(250)\n",
    "df1=df1['2021/1/29':'2021/9/17']\n",
    "df1=df1[['CLOSE','returns','history_volatility']]\n",
    "\n",
    "#期权\n",
    "df2=pd.read_csv('./50ETF购2021年9月.csv',index_col=0)\n",
    "\n",
    "#国债利率\n",
    "df3=pd.read_csv('./国债利率.csv',index_col=0)\n",
    "df3=df3.fillna(method='pad')/100\n",
    "df3=df3['2021/1/29':'2021/9/17']\n",
    "\n",
    "def get_data(name):\n",
    "    df=pd.DataFrame(df2[name])\n",
    "    df.columns=['price']\n",
    "    df['K']=float(name[-4:])\n",
    "    T=datetime.strptime('2021-9-22', '%Y-%m-%d')\n",
    "    df['T']=((T-pd.DatetimeIndex(df2.index)).days.values+1)/365\n",
    "    df['S']=df1['CLOSE'].values\n",
    "    df['r']=df3['TB1Y.WI'].values\n",
    "    return df\n",
    "\n",
    "for i in range(5):\n",
    "    if i==0:\n",
    "        data=get_data(df2.columns[i])\n",
    "    else:\n",
    "        newdata=get_data(df2.columns[i])\n",
    "        data=pd.concat([data,newdata])\n",
    "data=data.dropna(axis=0)\n",
    "\n",
    "train_data,test_data= train_test_split(data,test_size = 0.2,random_state = 0)"
   ]
  },
  {
   "cell_type": "code",
   "execution_count": null,
   "metadata": {},
   "outputs": [],
   "source": [
    "train_data=pd.read_excel('./stacking_train_data.xlsx',index_col=0)\n",
    "test_data=pd.read_excel('./stacking_test_data.xlsx',index_col=0)\n",
    "train_x=train_data[train_data.columns[1:]]\n",
    "train_y=train_data['price']\n",
    "test_x=test_data[test_data.columns[1:]]\n",
    "test_y=test_data['price']"
   ]
  },
  {
   "cell_type": "code",
   "execution_count": null,
   "metadata": {},
   "outputs": [],
   "source": [
    "print(len(train_data))\n",
    "print(len(test_data))\n",
    "print(len(train_data)+len(test_data))"
   ]
  },
  {
   "cell_type": "code",
   "execution_count": null,
   "metadata": {},
   "outputs": [],
   "source": [
    "def my_heston_call(S,K,T,r,params):\n",
    "    \n",
    "    def characteristic_function(S,K,T,r,params,phi,type_j):\n",
    "        \n",
    "        v0,kappa, theta, sigma, rho=params\n",
    "        \n",
    "        if type_j==1:\n",
    "            u = 0.5\n",
    "            b = kappa - rho*sigma\n",
    "        else: \n",
    "            u = -0.5\n",
    "            b = kappa\n",
    "        \n",
    "        a = kappa*theta\n",
    "        x = np.log(S)\n",
    "        d = np.sqrt((rho*sigma*phi*1j-b)**2 - sigma**2*(2*u*phi*1j-phi**2))\n",
    "        g = (b-rho*sigma*phi*1j+d)/(b-rho*sigma*phi*1j-d)\n",
    "        D = r*phi*1j*T + (a/sigma**2)*((b-rho*sigma*phi*1j+d)*T - 2*np.log((1-g*np.exp(d*T))/(1-g)))\n",
    "        E = ((b-rho*sigma*phi*1j+d)/sigma**2)*(1-np.exp(d*T))/(1-g*np.exp(d*T))\n",
    "        \n",
    "        return np.exp(D + E*v0 + 1j*phi*x)\n",
    "    \n",
    "    def integral_1(S,K,T,r,params,phi):\n",
    "        integral_1 = (np.exp(-1*1j*phi*np.log(K))*characteristic_function(S,K,T,r,params,phi,1))/(1j*phi)    \n",
    "        return integral_1.real\n",
    "    \n",
    "    def integral_2(S,K,T,r,params,phi):\n",
    "        integral_2 = (np.exp(-1*1j*phi*np.log(K))*characteristic_function(S,K,T,r,params,phi,2))/(1j*phi)    \n",
    "        return integral_2.real\n",
    "    \n",
    "    ifun_1 = lambda phi: integral_1(S,K,T,r,params,phi)\n",
    "    p1 = 0.5 + (1 / np.pi) * quad(ifun_1, 0, 100)[0]\n",
    "    ifun_2 = lambda phi: integral_2(S,K,T,r,params,phi)\n",
    "    p2 = 0.5 + (1 / np.pi) * quad(ifun_2, 0, 100)[0]\n",
    "    \n",
    "    return S* p1 - np.exp(-r * T) * K * p2\n",
    "\n",
    "\n",
    "def my_func_train(params):\n",
    "    heston_train=[]\n",
    "    for i in range(len(train_x)):\n",
    "        S=train_x['S'].iloc[i]\n",
    "        K=train_x['K'].iloc[i]\n",
    "        T=train_x['T'].iloc[i]\n",
    "        r=train_x['r'].iloc[i]\n",
    "        result=my_heston_call(S,K,T,r,params)\n",
    "        heston_train.append(result)\n",
    "    heston_train=np.array(heston_train)\n",
    "    se=mean_squared_error(heston_train,train_y.values)\n",
    "    return se\n",
    "\n",
    "\n",
    "def my_func_test(params):\n",
    "    heston_test=[]\n",
    "    for i in range(len(test_x)):\n",
    "        S=test_x['S'].iloc[i]\n",
    "        K=test_x['K'].iloc[i]\n",
    "        T=test_x['T'].iloc[i]\n",
    "        r=test_x['r'].iloc[i]\n",
    "        result=my_heston_call(S,K,T,r,params)\n",
    "        heston_test.append(result)\n",
    "    heston_test=np.array(heston_test)\n",
    "    se=mean_squared_error(heston_test,test_y.values)\n",
    "    return se"
   ]
  },
  {
   "cell_type": "code",
   "execution_count": null,
   "metadata": {},
   "outputs": [],
   "source": []
  },
  {
   "cell_type": "markdown",
   "metadata": {},
   "source": [
    "# GA-Heston"
   ]
  },
  {
   "cell_type": "code",
   "execution_count": null,
   "metadata": {},
   "outputs": [],
   "source": [
    "time_list=[]\n",
    "se_list=[]"
   ]
  },
  {
   "cell_type": "code",
   "execution_count": null,
   "metadata": {},
   "outputs": [],
   "source": [
    "for i in range(5):\n",
    "    print(f'iteration:{i}')\n",
    "    start =time.time()\n",
    "    ga = GA(func=my_func_train, n_dim=5, size_pop=10, max_iter=100, lb=[0.0001,0.0001,0.0001,0.0001,0.0001], ub=[2,20,2,2,1], precision=1e-7)\n",
    "    best_x, best_y = ga.run()\n",
    "    end = time.time()\n",
    "    time_list.append((end-start)/3600)\n",
    "    se_list.append(my_func_test(best_x))"
   ]
  },
  {
   "cell_type": "code",
   "execution_count": null,
   "metadata": {},
   "outputs": [],
   "source": [
    "ga_result=pd.DataFrame(time_list,columns=['time'])\n",
    "ga_result['test se']=se_list"
   ]
  },
  {
   "cell_type": "code",
   "execution_count": null,
   "metadata": {},
   "outputs": [],
   "source": []
  }
 ],
 "metadata": {
  "kernelspec": {
   "display_name": "Python 3",
   "language": "python",
   "name": "python3"
  },
  "language_info": {
   "codemirror_mode": {
    "name": "ipython",
    "version": 3
   },
   "file_extension": ".py",
   "mimetype": "text/x-python",
   "name": "python",
   "nbconvert_exporter": "python",
   "pygments_lexer": "ipython3",
   "version": "3.8.3"
  }
 },
 "nbformat": 4,
 "nbformat_minor": 4
}
